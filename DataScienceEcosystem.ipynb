{
 "cells": [
  {
   "cell_type": "markdown",
   "id": "32575988",
   "metadata": {},
   "source": [
    "# Data Science Tools and Ecosystem"
   ]
  },
  {
   "cell_type": "markdown",
   "id": "bd2bec6a",
   "metadata": {},
   "source": [
    "In this notebook, Data Science Tools and Ecosystem are summarized"
   ]
  },
  {
   "cell_type": "markdown",
   "id": "8e32af89",
   "metadata": {},
   "source": [
    "__Objectives:__\n",
    "\n",
    "* List popular languages for Data Science\n",
    "* List common libraries used by Data Scientists\n",
    "* List popular tools for Data Science\n",
    "* Build table in Jupyter Notebook\n",
    "* Evaluate simple arithmetic expression within Jupyter Notebook"
   ]
  },
  {
   "cell_type": "markdown",
   "id": "b2765bb0",
   "metadata": {},
   "source": [
    "Some of the popular languages that Data Scientists use are: \n",
    "\n",
    "1. Python\n",
    "2. R\n",
    "3. Scala"
   ]
  },
  {
   "cell_type": "markdown",
   "id": "1c0731d2",
   "metadata": {},
   "source": [
    "Some of the commonly used libraries used by Data Scientists include:\n",
    "\n",
    "* matplotlib\n",
    "* ggplot\n",
    "* scikitlearn"
   ]
  },
  {
   "cell_type": "code",
   "execution_count": 2,
   "id": "5f1b96da",
   "metadata": {},
   "outputs": [
    {
     "data": {
      "text/html": [
       "<style>\n",
       "  table {margin-left: 0 !important;}\n",
       "</style>\n"
      ],
      "text/plain": [
       "<IPython.core.display.HTML object>"
      ]
     },
     "metadata": {},
     "output_type": "display_data"
    }
   ],
   "source": [
    "%%html\n",
    "<style>\n",
    "  table {margin-left: 0 !important;}\n",
    "</style>"
   ]
  },
  {
   "cell_type": "markdown",
   "id": "18ac7e49",
   "metadata": {},
   "source": [
    "## Data Science Tools\n",
    "\n",
    "| Data Science Tools |\n",
    "| :- |\n",
    "| Jupyter Notebook |\n",
    "| PyCharm |\n",
    "| Spider |\n"
   ]
  },
  {
   "cell_type": "markdown",
   "id": "8fbcd925",
   "metadata": {},
   "source": [
    "### Below are a few examples of evaluating arithmetic expressions in Python"
   ]
  },
  {
   "cell_type": "code",
   "execution_count": 13,
   "id": "05e489cc",
   "metadata": {},
   "outputs": [
    {
     "name": "stdout",
     "output_type": "stream",
     "text": [
      "This is a simple arithmetic expression to multiply then add integers:\n",
      "(3*4)+5 = 17\n"
     ]
    }
   ],
   "source": [
    "print('This is a simple arithmetic expression to multiply then add integers:')\n",
    "print(f\"(3*4)+5 = {(3*4)+5}\") "
   ]
  },
  {
   "cell_type": "code",
   "execution_count": 14,
   "id": "df5218ac",
   "metadata": {},
   "outputs": [
    {
     "name": "stdout",
     "output_type": "stream",
     "text": [
      "Example of conversion of minutes into hours:\n",
      "200 minutes corresponds to 3.3333333333333335 hours\n"
     ]
    }
   ],
   "source": [
    "print(\"Example of conversion of minutes into hours:\")\n",
    "minutes = 200\n",
    "hours = minutes/60\n",
    "print(f\"{minutes} minutes corresponds to {hours} hours\")"
   ]
  },
  {
   "cell_type": "code",
   "execution_count": null,
   "id": "371b33fa",
   "metadata": {},
   "outputs": [],
   "source": []
  }
 ],
 "metadata": {
  "kernelspec": {
   "display_name": "Python 3 (ipykernel)",
   "language": "python",
   "name": "python3"
  },
  "language_info": {
   "codemirror_mode": {
    "name": "ipython",
    "version": 3
   },
   "file_extension": ".py",
   "mimetype": "text/x-python",
   "name": "python",
   "nbconvert_exporter": "python",
   "pygments_lexer": "ipython3",
   "version": "3.9.7"
  }
 },
 "nbformat": 4,
 "nbformat_minor": 5
}
